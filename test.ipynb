{
 "cells": [
  {
   "cell_type": "markdown",
   "metadata": {},
   "source": [
    "# Building Name Extraction"
   ]
  },
  {
   "cell_type": "code",
   "execution_count": 1,
   "metadata": {},
   "outputs": [],
   "source": [
    "# imports \n",
    "import data_preprocessor\n",
    "from config import *\n",
    "import pandas as pd"
   ]
  },
  {
   "cell_type": "code",
   "execution_count": 2,
   "metadata": {},
   "outputs": [
    {
     "name": "stdout",
     "output_type": "stream",
     "text": [
      "Dataframes Loaded\n"
     ]
    }
   ],
   "source": [
    "df = data_preprocessor.load_corpus(fname, pandas = True, header = True) \n",
    "df = df.drop(columns=columns_to_drop, axis=1) \n",
    "\n",
    "df_normalized = data_preprocessor.load_corpus(fname_normalized, pandas = True, header = True)\n",
    "df_normalized = df_normalized.fillna('None') # -> if from file\n",
    "\n",
    "print('Dataframes Loaded')"
   ]
  },
  {
   "cell_type": "code",
   "execution_count": 3,
   "metadata": {},
   "outputs": [],
   "source": [
    "import building_extraction\n",
    "\n",
    "def building_name_extraction_pipeline(df, df_normalized):\n",
    "    lst_addresses, lst_building_names = building_extraction.preparing_extraction(df, df_normalized)\n",
    "    extracted_building_names = building_extraction.extract_building_names(lst_addresses, lst_building_names)\n",
    "    return lst_addresses, extracted_building_names\n"
   ]
  },
  {
   "cell_type": "code",
   "execution_count": 4,
   "metadata": {},
   "outputs": [
    {
     "name": "stdout",
     "output_type": "stream",
     "text": [
      "Commands: 'd' - delete, 'e' - edit, any other key - continue.\n",
      "Building Name: 70riviera luxury apartment\n",
      "Building Name: court view apartments\n",
      "Building Name: crystal hills apartment\n",
      "Building Name: sky tower\n",
      "Building Name: royal homes\n",
      "Building Name: off\n",
      "Building Name: parsa heaven\n",
      "Building Name: prince complex\n",
      "Building Name: mehran square\n",
      "Building Name: al habib castle apartment\n",
      "Building Name: sasi boat view\n",
      "Building Name: pearl apartments\n",
      "Building Name: ocean mall\n",
      "Building Name: luna residency\n",
      "Building Name: gem homes\n",
      "Building Name: ctc\n",
      "Building Name: sea view apartments\n",
      "Building Name: shadman residency\n",
      "Building Name: the plaza\n",
      "Building Name: florida homes\n",
      "Building Name: mehran heights\n",
      "Building Name: paradise tower\n",
      "Building Name: salalah appartment\n",
      "Building Name: ferrer town\n",
      "Building Name: clifton view apartments\n",
      "Building Name: com 3\n",
      "Building Name: emerald tower\n",
      "Building Name: hanging garden\n",
      "Building Name: fortune arcade\n",
      "Building Name: building olrendo - o\n",
      "Building Name: nehr - e - khayyam\n",
      "Building Name: prime residency\n",
      "Building Name: sea breeze centre\n",
      "Building Name: clifton diamond building\n",
      "Building Name: belle view apartment\n",
      "Building Name: sea world residency\n",
      "Building Name: sapphire residency\n",
      "Building Name: chappal resort\n",
      "Building Name: marine promenade\n",
      "Building Name: presidents apartments\n",
      "Building Name: ali rehana apartments\n",
      "Building Name: aftab sultan residential complex\n",
      "Building Name: quality heights\n",
      "Building Name: marina elevation apartment\n",
      "Building Name: al makkah tower\n",
      "Building Name: frere residency\n",
      "Building Name: khadija tower\n",
      "Building Name: marine heights 2\n",
      "File 'data/buildings/directory/karachi_buildings.txt' has been created.\n"
     ]
    }
   ],
   "source": [
    "lst_addresses, ebnl = building_name_extraction_pipeline(df, df_normalized)\n",
    "\n",
    "data = {\n",
    "    'Addresses':lst_addresses,\n",
    "    'Extracted Building Name':ebnl\n",
    "}\n",
    "\n",
    "df = pd.DataFrame(data)\n",
    "\n",
    "df.to_excel('data/buildings/extraction_5.xlsx', sheet_name = 'Sheet1', index=False)"
   ]
  },
  {
   "cell_type": "code",
   "execution_count": 9,
   "metadata": {},
   "outputs": [],
   "source": [
    "# identify field in which the address is wrongly placed\n",
    "# change spelling in address if incorrect\n",
    "# remove/delete building name from that field and place in building name column \n",
    "# if None not in building name:\n",
    "    # check based on probability identifier mechanim\n",
    "    # either place in buildng number colum or area/subarea column or other relevant place\n",
    "# if No building name found then go to city building corpus and check in that\n",
    "# correct other fields if they are misplaced as well.\n",
    "def correction():\n",
    "    pass\n",
    "\n",
    "\n",
    "# when all previous done, have city building corpus ready\n",
    "# check in it it building is present, if not then place new buildings in the corpus\n",
    "# that way we can have a city wise building corpus/directory which is self learning and self updating\n",
    "# the more runs and more it learns and saves and better results acheived\n",
    "def updating_building_corpus():\n",
    "    pass \n",
    "\n",
    "# all if building is found\n",
    "\n"
   ]
  },
  {
   "cell_type": "code",
   "execution_count": 8,
   "metadata": {},
   "outputs": [
    {
     "name": "stdout",
     "output_type": "stream",
     "text": [
      "['riviera']\n"
     ]
    }
   ],
   "source": [
    "address = ['f - 70 apartment : no . 1001 10th floor riviera luxury apartment']\n",
    "\n",
    "from fuzzywuzzy import process\n",
    "import data_preprocessor\n",
    "\n",
    "building_names = data_preprocessor.load_corpus('Data/buildings/directory/karachi_buildings.txt')\n",
    "\n",
    "def layer2checks(address, buildingname, buildingnamecorpus):\n",
    "    if buildingname not in address:\n",
    "        for potiental_building_name in buildingnamecorpus:\n",
    "            if potiental_building_name in address:\n",
    "                buildingname = potiental_building_name \n",
    "                return buildingname\n",
    "        return buildingname\n",
    "    else:\n",
    "        return True\n",
    "\n",
    "def extract_building_names(addresses, building_names, threshold=75):\n",
    "    extracted_names = []\n",
    "\n",
    "    for address in addresses:\n",
    "        best_match, score = process.extractOne(address, building_names)\n",
    "\n",
    "        if score >= threshold:\n",
    "            \n",
    "            verify_building_name = layer2checks(address, best_match, building_names)\n",
    "            if verify_building_name == True:\n",
    "                extracted_names.append(best_match)\n",
    "            else:\n",
    "                extracted_names.append(verify_building_name)\n",
    "        else:\n",
    "            extracted_names.append('None')\n",
    "\n",
    "    return extracted_names\n",
    "\n",
    "\n",
    "print(extract_building_names(address, building_names))\n",
    "\n"
   ]
  }
 ],
 "metadata": {
  "kernelspec": {
   "display_name": "Python 3",
   "language": "python",
   "name": "python3"
  },
  "language_info": {
   "codemirror_mode": {
    "name": "ipython",
    "version": 3
   },
   "file_extension": ".py",
   "mimetype": "text/x-python",
   "name": "python",
   "nbconvert_exporter": "python",
   "pygments_lexer": "ipython3",
   "version": "3.11.4"
  },
  "orig_nbformat": 4
 },
 "nbformat": 4,
 "nbformat_minor": 2
}
