{
 "cells": [
  {
   "cell_type": "markdown",
   "metadata": {},
   "source": [
    "# Building Name Extraction"
   ]
  },
  {
   "cell_type": "code",
   "execution_count": 1,
   "metadata": {},
   "outputs": [],
   "source": [
    "# imports \n",
    "import data_preprocessor\n",
    "from config import *\n",
    "import pandas as pd"
   ]
  },
  {
   "cell_type": "code",
   "execution_count": 2,
   "metadata": {},
   "outputs": [
    {
     "name": "stdout",
     "output_type": "stream",
     "text": [
      "Dataframes Loaded\n"
     ]
    }
   ],
   "source": [
    "df = data_preprocessor.load_corpus(fname, pandas = True, header = True)\n",
    "# df = df.drop(columns=['Title', 'Created', 'Close Time', 'Queue'], axis=1) \n",
    "df = df.drop(columns=['Building Name'], axis=1) \n",
    "\n",
    "df_normalized = data_preprocessor.load_corpus(fname_normalized, pandas = True, header = True)\n",
    "df_normalized = df_normalized.fillna('None') # -> if from file\n",
    "\n",
    "print('Dataframes Loaded')"
   ]
  },
  {
   "cell_type": "code",
   "execution_count": 3,
   "metadata": {},
   "outputs": [],
   "source": [
    "import building_extraction"
   ]
  },
  {
   "cell_type": "code",
   "execution_count": 4,
   "metadata": {},
   "outputs": [],
   "source": [
    "# def building_name_extraction_pipeline():\n",
    "#     lst_addresses, lst_building_names = building_extraction.preparing_extraction(df, df_normalized)"
   ]
  },
  {
   "cell_type": "code",
   "execution_count": 4,
   "metadata": {},
   "outputs": [
    {
     "name": "stdout",
     "output_type": "stream",
     "text": [
      "['House # B6, Block-B Floor Aftab Sultan residencial Complex, Shahra e Ghalib, Block 2, Clifton, Karachi', 'House # Aftab Sultan Resedention complex Appt A/3 2nd Fl, Khayaban-e-Bedi, Block 2, Clifton, Karachi', 'House # St 20 fL B2 Aftab sultan near postoffice, Khayaban-e-Bedi, Block 2, Clifton, Karachi', 'House # Aftab Sultan Complex Appt A6, Khayaban-e-Bedi, Block 2, Clifton, Karachi', 'House # ST-20 Flat B-4 2nd Floor Aftab Sultan Residential, Khayaban-e-Bedi, Block 2, Clifton, Karachi', 'House # C-7 3rd Floor Al Habib Castle, 3rd Avenue, Block 5, Clifton, Karachi', 'House # Blessed Home, Flat E-5, McNeil Road, Civil Lines, Clifton, Karachi', 'House # 37 Flat F 2 1st Floor Blessed Homes, Mc Neil Road, Civil Lines, Clifton, Karachi', 'House # Blessed Homes Appt # E-6 5TH Floor, McNeil Road, Civil Lines, Clifton, Karachi', 'House # 37-A Flat D-4 3rd Floor Blessed Homes, McNeil Road, Civil Lines, Clifton, Karachi', 'House # 37 A Apartment No C 7 F Blessed Homes, Adam Road, Civil Lines, Clifton, Karachi', 'House # 37 Flat D-3 2nd Floor Blessed Homes, McNeil Road, Civil Lines, Clifton, Karachi', 'House # 37 Flat B-1 Ground Floor Blessed Homes, McNeil Road, Civil Lines, Clifton, Karachi', 'House # 37 Flat E 1 Blessed Homes, McNeil Road, Civil Lines, Clifton, Karachi', 'House # F-5 BLESSED HOMES 4TH FLOOR, McNeil Road, Civil Lines, Clifton, Karachi', 'House # F-28 Unit A-1 Classic Home Of, Kehkashan Banglows, Block 5, Clifton, Karachi', 'House # F-28 Banglow #12 Classic homes, Khayaban e Sadi, Block 5, Clifton, Karachi', 'House # F 28/3 Classic Homes Town House No 16 Off, Khayaban e Sadi, Block 5, Clifton, Karachi', 'House # Plot no F-28/A Flat 11 Classic Homes, Khayaban e Roomi, Block 5, Clifton, Karachi', 'House # 14 F-28/2B Classic Home, Nehr-e-Khayyam, Block 5, Clifton, Karachi', 'House # F-28 Flat No 15 Classic Homes Off, Khayaban e Sadi, Block 5, Clifton, Karachi', 'House # F-29 Classic Homes, Rojhan Street, Block 5, Clifton, Karachi', 'House # F-29 Town House No 2-A Classic Homes, Nehr-e-Khayyam, Block 5, Clifton, Karachi', 'House # Crystal Hill Appt Flat No G-213 3rd Floor, Feroz Nana Road, Bath Island, Clifton, Karachi', 'House # G-23/B/2, Behind Emerald Tower, Khayaban e Iqbal, Block 5, Clifton, Karachi', 'House # D-8/4 8th Floor Florida homes, Khayaban-e-Mujahid, Phase 5, Defence, Karachi', 'House # Flat O/10/8 Florida Homes 33rd Street, Beach Avenue, Phase 5, Defence, Karachi', 'House # D 55 Near Ocean Mall, Khayaban-e-Jami, Block 9, Clifton, Karachi', 'House # F-33 Flat # 301 Park Lane Homes, Park Lane, Block 5, Clifton, Karachi', 'House # F-33 Villa 201 Park Lane Homes, Park Lane, Block 5, Clifton, Karachi', 'House # 33 park lane homes, Park Lane, Block 5, Clifton, Karachi', 'House # 112, 2nd Flr, Parsa Heaven, Near Indian Embassy, Fatima Jinnah Road, Civil Lines, Clifton, Karachi', 'House # Pent House 7th Floor Pearl Appartment, Ferrer Town, Civil Lines, Clifton, Karachi', 'House # Prince Complex block b Appt B-09 2nd Floor, Khayaban-e-Iqbal, Block 7, Clifton, Karachi', 'House # Quality Height flat 304 3rd floor, Chartered AC Avenue, Block 8, Clifton, Karachi', 'House # Appt 1101/B 11th Floor Royal Home, Fatima Jinnah Road, Civil Lines, Clifton, Karachi', 'House # CL 6/21/1 Royal Homes, Apt# 1101 ,, Belgrave Road, Civil Lines, Clifton, Karachi', 'House # Royal Homes Flat B-601 6th Floor, Fatima Jinnah Road, Civil Lines, Clifton, Karachi', 'House # Royal Homes Flat No 502-A 5th Floor, Fatima Jinnah Road, Civil Lines, Clifton, Karachi', 'House # Royal Homes, Apt# 101-A 1st Floor, Belgrave Road, Civil Lines, Clifton, Karachi', 'House # Block -78 First Floor -2 Sea View Apt, Beach Avenue, Phase 5, Defence, Karachi', 'House # BLOCK-26 SEA VIEW APPT SF-2, Beach Avenue, Phase 5, Defence, Karachi', 'House # 7/3, First Floor, Sea View Apartments, Beach Avenue, Phase 5, Defence, Karachi', 'House # BLock 59 Appt FF3 1st Floor Sea View Appt, Beach Avenue, Phase 5, Defence, Karachi', 'House # Flat # 211 Sea World Residency, Kheyaban e Saadi, Block 6, Clifton, Karachi', 'House # 103 1st Floor Sky Tower Near Bacha Party, Khaliq-uz-Zaman Road, Block 8, Clifton, Karachi', 'House # Sky Tower Flat No 801 8th Floor, Khaliq-uz-Zaman Road, Block 8, Clifton, Karachi', 'House # SKY TOWER SHOP NO 1 CHUGHTAI LAB, Khaliq-uz-Zaman Road, Block 8, Clifton, Karachi', 'House # Sky Tower Flat 903 9th Floor, Khaliq-uz-Zaman Road, Block 8, Clifton, Karachi', 'House # Flat no 602 Sky Tower, Khaliq-uz-Zaman Road, Block 8, Clifton, Karachi', 'House # Flat no 502 Sky Tower, Khaliq-uz-Zaman Road, Block 8, Clifton, Karachi', 'House # Flat 503 5th Floor Sky Tower, Khaliq-uz-Zaman Road, Block 8, Clifton, Karachi', 'House # Citi Eye Centre 5th Floor, Doctors Plaza, Khayaban e Iqbal, Block 9, Clifton, Karachi', 'House # C-7 3rd Floor Al Habib Castle, 3rd Avenue, Block 5, Clifton, Karachi', 'House # B-4 Al-Rehana Appt, Bank Road, Block 5, Clifton, Karachi', 'House # 37 A Apartment No  C 7 F Blessed Homes, Adam Road, Civil Lines, Clifton, Karachi', 'House # 37 Flat No F1 Blessed Homes, Mc Neil Road, Civil Lines, Clifton, Karachi', 'House # Blessed homes APT no C3 2nd floor, McNeil Road, Civil Lines, Clifton, Karachi', 'House # 37 Flat E 1  Blessed Homes, McNeil Road, Civil Lines, Clifton, Karachi', 'House # F-28 Flat No 15 Classic Homes  Off, Khayaban e Sadi, Block 5, Clifton, Karachi', 'House # F-29  Town House No 2-A Classic Homes, Nehr-e-Khayyam, Block 5, Clifton, Karachi', 'House # F-29 house 1-A classic homes, Rojhan Street, Block 5, Clifton, Karachi', 'House # F-29  Classic Homes, Rojhan Street, Block 5, Clifton, Karachi', 'House # F29 Classic Homes Flat No D4, Shahrah e Iran, Block 5, Clifton, Karachi', 'House # Crystal Hill Appt Flat No G-213 3rd Floor, Feroz Nana Road, Bath Island, Clifton, Karachi', 'House # Citi Eye Centre 5th Floor, Doctors Plaza, Khayaban e Iqbal, Block 9, Clifton, Karachi', 'House # OG1 Ground Floor Florida Homes, B Street, Phase 5, Defence, Karachi', 'House # G 4/1 Clifton next to Ocean Mall, Khayaban e Iqbal, Block 9, Clifton, Karachi', 'House # XD Adventure 4th Floor Ocean Mall, Khayaban e Iqbal, Block 9, Clifton, Karachi', 'House # Laser Tag 1st Floor Ocean Mall, Khayaban e Iqbal, Block 9, Clifton, Karachi', 'House # G4/3  Ground Floor Near Ocean Mall, Khayaban e Iqbal, Block 9, Clifton, Karachi', 'House # G-4/2 Prince Jewellers, Khayaban e Iqbal, Block 9, Clifton, Karachi', 'House # Flat A-44/45 Prince Complex Off, Khayaban-e-Roomi, Block 7, Clifton, Karachi', 'House # G32 A Flat 401 Quality Heights, Chartered AC Avenue, Block 8, Clifton, Karachi', 'House # Flat 203 2nd Floor Quality Heights, Chartered AC Avenue, Block 8, Clifton, Karachi', 'House # 2005 28FlrRivieraApt, 26th Street, Block 4, Clifton, Karachi', 'House # F 70 Flat 1105 11th Floor 70 Riviera, 26th Street, Block 4, Clifton, Karachi', 'House # F70 1601 16TH FLOOR RIVIERA LUXURY APPARTMENT, 26th Street, Block 4, Clifton, Karachi', 'House # 70  Flat 1806 Riviera, 26th Street, Block 4, Clifton, Karachi', 'House # 70 Flat 20th Floor 70Riviera Main, 26th Street, Block 4, Clifton, Karachi', 'House # F-70 Appt: No.1001 10th Floor Riviera Luxury Appt, 26th Street, Block 4, Clifton, Karachi', 'House # 70 Riviera  Flat 1905 19th Floor, 26th Street, Block 4, Clifton, Karachi', 'House # F 70 Flat 2602 26th Floor 70 Riviera, 26th Street, Block 4, Clifton, Karachi', 'House # F 70 Flat 1402 70 Riviera, 26th Street, Block 4, Clifton, Karachi', 'House # 70 Flat 2601 70 Riviera Building, 26th Street, Block 4, Clifton, Karachi', 'House #  CL 6/21/1 Royal Homes, Apt# 1101 ,, Belgrave Road, Civil Lines, Clifton, Karachi', 'House # Flat B 201 Royal Homes,, Fatima Jinnah Road, Civil Lines, Clifton, Karachi', 'House # 21/1 CL-6 Royal Homes A-202, Beaumont Road, Civil Lines, Clifton, Karachi', 'House # Royal home , Belgrave Road, Civil Lines, Clifton, Karachi', 'House # Royal home B/902 9th Floor, Fatima Jinnah Road, Civil Lines, Clifton, Karachi', 'House # Sasi Boat View Villa No 1 Plot 09, Khayaban-e-Sadi, Block 2, Clifton, Karachi', 'House # GF 2 Block 59 , sea view apartment, Beach Avenue, Phase 5, Defence, Karachi', 'House # Flat, FF-03 1st Floor Block 25 Sea View Township, Beach Avenue, Phase 5, Defence, Karachi', 'House # Greeno Juice Bar Beside Near Macdonald, Sea View , Beach Avenue, Phase 5, Defence, Karachi', 'House # A-196, Main Sea view road, Khayaban e Ittehad, Phase 6, Defence, Karachi', 'House # Flat 103 1st Floor Sea World Recidency, Kheyaban e Saadi, Block 6, Clifton, Karachi', 'House # G-5, Sawera Sky Tower, Gr Floor, Khayaban e Iqbal, Block 9, Clifton, Karachi', 'House # Flat 501 5th Floor Sky Tower, Khaliq-uz-Zaman Road, Block 8, Clifton, Karachi']\n",
      "['70riviera luxury apartment', 'aftab sultan residential complex', 'al habib castle apartment', 'al makkah tower', 'ali rehana apartments', 'belle view apartment', 'building olrendo - o', 'chappal resort', 'clifton diamond building', 'clifton view apartments', 'com 3', 'court view apartments', 'crystal hills apartment', 'emerald tower', 'ferrer town', 'florida homes', 'fortune arcade', 'frere residency', 'gem homes', 'hanging garden', 'khadija tower', 'luna residency', 'marina elevation apartment', 'marine heights 2', 'marine promenade', 'mehran heights', 'mehran square', 'nehr - e - khayyam', 'ocean mall', 'paradise tower', 'parsa heaven', 'pearl apartments', 'presidents apartments', 'prime residency', 'prince complex', 'quality heights', 'royal homes', 'salalah appartment', 'sapphire residency', 'sasi boat view', 'sea breeze centre', 'sea view apartments', 'sea world residency', 'shadman residency', 'sky tower', 'the plaza', 'ctc', 'off']\n"
     ]
    }
   ],
   "source": [
    "lst_addresses, lst_building_names = building_extraction.preparing_extraction(df, df_normalized)\n",
    "\n",
    "print(lst_addresses)\n",
    "print(lst_building_names)\n",
    "\n",
    "lst_building_names.remove('nehr - e - khayyam')"
   ]
  },
  {
   "cell_type": "code",
   "execution_count": 8,
   "metadata": {},
   "outputs": [
    {
     "name": "stdout",
     "output_type": "stream",
     "text": [
      "98\n",
      "47\n"
     ]
    }
   ],
   "source": [
    "print(len(lst_addresses))\n",
    "print(len(lst_building_names))"
   ]
  },
  {
   "cell_type": "code",
   "execution_count": 5,
   "metadata": {},
   "outputs": [
    {
     "name": "stdout",
     "output_type": "stream",
     "text": [
      "['House # B6 , Block - B Floor Aftab Sultan residencial Complex , Shahra e Ghalib ', 'House # Aftab Sultan Resedention complex Appt A / 3 2nd Fl , Khayaban - e - Bedi ', 'House # St 20 fL B2 Aftab sultan near postoffice , Khayaban - e - Bedi ', 'House # Aftab Sultan Complex Appt A6 , Khayaban - e - Bedi ', 'House # ST - 20 Flat B - 4 2nd Floor Aftab Sultan Residential , Khayaban - e - Bedi ', 'House # C - 7 3rd Floor Al Habib Castle , 3rd Avenue ', 'House # Blessed Home , Flat E - 5 , McNeil Road ', 'House # 37 Flat F 2 1st Floor Blessed Homes , Mc Neil Road ', 'House # Blessed Homes Appt # E - 6 5TH Floor , McNeil Road ', 'House # 37 - A Flat D - 4 3rd Floor Blessed Homes , McNeil Road ', 'House # 37 A Apartment No C 7 F Blessed Homes , Adam Road ', 'House # 37 Flat D - 3 2nd Floor Blessed Homes , McNeil Road ', 'House # 37 Flat B - 1 Ground Floor Blessed Homes , McNeil Road ', 'House # 37 Flat E 1 Blessed Homes , McNeil Road ', 'House # F - 5 BLESSED HOMES 4TH FLOOR , McNeil Road ', 'House # F - 28 Unit A - 1 Classic Home Of , Kehkashan Banglows ', 'House # F - 28 Banglow # 12 Classic homes , Khayaban e Sadi ', 'House # F 28 / 3 Classic Homes Town House No 16 Off , Khayaban e Sadi ', 'House # Plot no F - 28 / A Flat 11 Classic Homes , Khayaban e Roomi ', 'House # 14 F - 28 / 2B Classic Home , Nehr - e - Khayyam ', 'House # F - 28 Flat No 15 Classic Homes Off , Khayaban e Sadi ', 'House # F - 29 Classic Homes , Rojhan Street ', 'House # F - 29 Town House No 2 - A Classic Homes , Nehr - e - Khayyam ', 'House # Crystal Hill Appt Flat No G - 213 3rd Floor , Feroz Nana Road ', 'House # G - 23 / B / 2 , Behind Emerald Tower , Khayaban e Iqbal ', 'House # D - 8 / 4 8th Floor Florida homes , Khayaban - e - Mujahid ', 'House # Flat O / 10 / 8 Florida Homes 33rd Street , Beach Avenue ', 'House # D 55 Near Ocean Mall , Khayaban - e - Jami ', 'House # F - 33 Flat # 301 Park Lane Homes , Park Lane ', 'House # F - 33 Villa 201 Park Lane Homes , Park Lane ', 'House # 33 park lane homes , Park Lane ', 'House # 112 , 2nd Flr , Parsa Heaven , Near Indian Embassy , Fatima Jinnah Road ', 'House # Pent House 7th Floor Pearl Appartment , Ferrer Town ', 'House # Prince Complex block b Appt B - 09 2nd Floor , Khayaban - e - Iqbal ', 'House # Quality Height flat 304 3rd floor , Chartered AC Avenue ', 'House # Appt 1101 / B 11th Floor Royal Home , Fatima Jinnah Road ', 'House # CL 6 / 21 / 1 Royal Homes , Apt # 1101 , , Belgrave Road ', 'House # Royal Homes Flat B - 601 6th Floor , Fatima Jinnah Road ', 'House # Royal Homes Flat No 502 - A 5th Floor , Fatima Jinnah Road ', 'House # Royal Homes , Apt # 101 - A 1st Floor , Belgrave Road ', 'House # Block - 78 First Floor - 2 Sea View Apt , Beach Avenue ', 'House # BLOCK - 26 SEA VIEW APPT SF - 2 , Beach Avenue ', 'House # 7 / 3 , First Floor , Sea View Apartments , Beach Avenue ', 'House # BLock 59 Appt FF3 1st Floor Sea View Appt , Beach Avenue ', 'House # Flat # 211 Sea World Residency , Kheyaban e Saadi ', 'House # 103 1st Floor Sky Tower Near Bacha Party , Khaliq - uz - Zaman Road ', 'House # Sky Tower Flat No 801 8th Floor , Khaliq - uz - Zaman Road ', 'House # SKY TOWER SHOP NO 1 CHUGHTAI LAB , Khaliq - uz - Zaman Road ', 'House # Sky Tower Flat 903 9th Floor , Khaliq - uz - Zaman Road ', 'House # Flat no 602 Sky Tower , Khaliq - uz - Zaman Road ', 'House # Flat no 502 Sky Tower , Khaliq - uz - Zaman Road ', 'House # Flat 503 5th Floor Sky Tower , Khaliq - uz - Zaman Road ', 'House # Citi Eye Centre 5th Floor , Doctors Plaza , Khayaban e Iqbal ', 'House # C - 7 3rd Floor Al Habib Castle , 3rd Avenue ', 'House # B - 4 Al - Rehana Appt , Bank Road ', 'House # 37 A Apartment No C 7 F Blessed Homes , Adam Road ', 'House # 37 Flat No F1 Blessed Homes , Mc Neil Road ', 'House # Blessed homes APT no C3 2nd floor , McNeil Road ', 'House # 37 Flat E 1 Blessed Homes , McNeil Road ', 'House # F - 28 Flat No 15 Classic Homes Off , Khayaban e Sadi ', 'House # F - 29 Town House No 2 - A Classic Homes , Nehr - e - Khayyam ', 'House # F - 29 house 1 - A classic homes , Rojhan Street ', 'House # F - 29 Classic Homes , Rojhan Street ', 'House # F29 Classic Homes Flat No D4 , Shahrah e Iran ', 'House # Crystal Hill Appt Flat No G - 213 3rd Floor , Feroz Nana Road ', 'House # Citi Eye Centre 5th Floor , Doctors Plaza , Khayaban e Iqbal ', 'House # OG1 Ground Floor Florida Homes , B Street ', 'House # G 4 / 1 Clifton next to Ocean Mall , Khayaban e Iqbal ', 'House # XD Adventure 4th Floor Ocean Mall , Khayaban e Iqbal ', 'House # Laser Tag 1st Floor Ocean Mall , Khayaban e Iqbal ', 'House # G4 / 3 Ground Floor Near Ocean Mall , Khayaban e Iqbal ', 'House # G - 4 / 2 Prince Jewellers , Khayaban e Iqbal ', 'House # Flat A - 44 / 45 Prince Complex Off , Khayaban - e - Roomi ', 'House # G32 A Flat 401 Quality Heights , Chartered AC Avenue ', 'House # Flat 203 2nd Floor Quality Heights , Chartered AC Avenue ', 'House # 2005 28FlrRivieraApt , 26th Street ', 'House # F 70 Flat 1105 11th Floor 70 Riviera , 26th Street ', 'House # F70 1601 16TH FLOOR RIVIERA LUXURY APPARTMENT , 26th Street ', 'House # 70 Flat 1806 Riviera , 26th Street ', 'House # 70 Flat 20th Floor 70Riviera Main , 26th Street ', 'House # F - 70 Appt : No . 1001 10th Floor Riviera Luxury Appt , 26th Street ', 'House # 70 Riviera Flat 1905 19th Floor , 26th Street ', 'House # F 70 Flat 2602 26th Floor 70 Riviera , 26th Street ', 'House # F 70 Flat 1402 70 Riviera , 26th Street ', 'House # 70 Flat 2601 70 Riviera Building , 26th Street ', 'House # CL 6 / 21 / 1 Royal Homes , Apt # 1101 , , Belgrave Road ', 'House # Flat B 201 Royal Homes , , Fatima Jinnah Road ', 'House # 21 / 1 CL - 6 Royal Homes A - 202 , Beaumont Road ', 'House # Royal home , Belgrave Road ', 'House # Royal home B / 902 9th Floor , Fatima Jinnah Road ', 'House # Sasi Boat View Villa No 1 Plot 09 , Khayaban - e - Sadi ', 'House # GF 2 Block 59 , sea view apartment , Beach Avenue ', 'House # Flat , FF - 03 1st Floor Block 25 Sea View Township , Beach Avenue ', 'House # Greeno Juice Bar Beside Near Macdonald , Sea View , Beach Avenue ', 'House # A - 196 , Main Sea view road , Khayaban e Ittehad ', 'House # Flat 103 1st Floor Sea World Recidency , Kheyaban e Saadi ', 'House # G - 5 , Sawera Sky Tower , Gr Floor , Khayaban e Iqbal ', 'House # Flat 501 5th Floor Sky Tower , Khaliq - uz - Zaman Road ']\n"
     ]
    }
   ],
   "source": [
    "import data_processor\n",
    "\n",
    "updated_lst_addresses = data_processor.brew_address_list(lst_addresses)\n",
    "# updated_lst_addresses = [data_preprocessor.address_trimmer(address) for address in lst_addresses]\n",
    "\n",
    "print(updated_lst_addresses)"
   ]
  },
  {
   "cell_type": "code",
   "execution_count": 6,
   "metadata": {},
   "outputs": [
    {
     "name": "stdout",
     "output_type": "stream",
     "text": [
      "['aftab sultan residential complex', 'aftab sultan residential complex', 'aftab sultan residential complex', 'aftab sultan residential complex', 'aftab sultan residential complex', 'al habib castle apartment', 'None', 'florida homes', 'florida homes', 'florida homes', '70riviera luxury apartment', 'florida homes', 'florida homes', 'florida homes', 'florida homes', 'None', 'florida homes', 'ferrer town', 'florida homes', 'None', 'florida homes', 'florida homes', 'ferrer town', 'crystal hills apartment', 'emerald tower', 'florida homes', 'florida homes', 'ocean mall', 'florida homes', 'florida homes', 'florida homes', 'parsa heaven', 'ferrer town', 'prince complex', 'quality heights', 'royal homes', 'royal homes', 'royal homes', 'royal homes', 'royal homes', 'belle view apartment', 'belle view apartment', 'sea view apartments', 'belle view apartment', 'sea world residency', 'al makkah tower', 'sky tower', 'sky tower', 'sky tower', 'sky tower', 'sky tower', 'sky tower', 'sea breeze centre', 'al habib castle apartment', 'al habib castle apartment', '70riviera luxury apartment', 'florida homes', 'florida homes', 'florida homes', 'florida homes', 'ferrer town', 'florida homes', 'florida homes', 'florida homes', 'crystal hills apartment', 'sea breeze centre', 'florida homes', 'ocean mall', 'ocean mall', 'ocean mall', 'ocean mall', 'marine heights 2', 'prince complex', 'quality heights', 'quality heights', 'None', 'None', '70riviera luxury apartment', 'None', '70riviera luxury apartment', '70riviera luxury apartment', 'None', 'None', 'None', 'building olrendo - o', 'royal homes', 'royal homes', 'royal homes', 'royal homes', 'royal homes', 'sasi boat view', '70riviera luxury apartment', 'belle view apartment', 'belle view apartment', 'belle view apartment', 'sea breeze centre', 'sky tower', 'sky tower']\n"
     ]
    }
   ],
   "source": [
    "extracted_building_names = building_extraction.extract_building_names(updated_lst_addresses, lst_building_names)\n",
    "\n",
    "print(extracted_building_names)\n",
    "\n",
    "\n",
    "# address_tuple = building_extraction.extract_building_names(updated_lst_addresses, lst_building_names)\n",
    "\n",
    "# print(address_tuple)"
   ]
  },
  {
   "cell_type": "code",
   "execution_count": 7,
   "metadata": {},
   "outputs": [
    {
     "name": "stdout",
     "output_type": "stream",
     "text": [
      "98\n",
      "47\n"
     ]
    }
   ],
   "source": [
    "print(len(updated_lst_addresses))\n",
    "print(len(lst_building_names))"
   ]
  },
  {
   "cell_type": "code",
   "execution_count": 9,
   "metadata": {},
   "outputs": [
    {
     "name": "stdout",
     "output_type": "stream",
     "text": [
      "File 'data/buildings/corpusbuildings2.txt' has been created.\n"
     ]
    }
   ],
   "source": [
    "data = {\n",
    "    'Addresses':updated_lst_addresses,\n",
    "    'Extracted Building Name':extracted_building_names\n",
    "}\n",
    "\n",
    "df = pd.DataFrame(data)\n",
    "\n",
    "# df.to_csv('data/buildings/extraction_2.csv', index=False)\n",
    "df.to_excel('data/buildings/extraction_4.xlsx', sheet_name = 'Sheet1', index=False)\n",
    "\n",
    "data_preprocessor.create_corpus('data/buildings/corpusbuildings2.txt', lst_building_names)"
   ]
  },
  {
   "cell_type": "code",
   "execution_count": 9,
   "metadata": {},
   "outputs": [],
   "source": [
    "# identify field in which the address is wrongly placed\n",
    "# change spelling in address if incorrect\n",
    "# remove/delete building name from that field and place in building name column \n",
    "# if None not in building name:\n",
    "    # check based on probability identifier mechanim\n",
    "    # either place in buildng number colum or area/subarea column or other relevant place\n",
    "# if No building name found then go to city building corpus and check in that\n",
    "# correct other fields if they are misplaced as well.\n",
    "def correction():\n",
    "    pass\n",
    "\n",
    "\n",
    "# when all previous done, have city building corpus ready\n",
    "# check in it it building is present, if not then place new buildings in the corpus\n",
    "# that way we can have a city wise building corpus/directory which is self learning and self updating\n",
    "# the more runs and more it learns and saves and better results acheived\n",
    "def updating_building_corpus():\n",
    "    pass \n",
    "\n",
    "# all if building is found\n",
    "\n"
   ]
  },
  {
   "cell_type": "code",
   "execution_count": 9,
   "metadata": {},
   "outputs": [
    {
     "name": "stdout",
     "output_type": "stream",
     "text": [
      "['Addr1', 'Addr4', 'Addr5']\n"
     ]
    },
    {
     "name": "stderr",
     "output_type": "stream",
     "text": [
      "C:\\Users\\Haider.Abbad\\AppData\\Local\\Temp\\ipykernel_7344\\2404274488.py:26: SettingWithCopyWarning: \n",
      "A value is trying to be set on a copy of a slice from a DataFrame.\n",
      "Try using .loc[row_indexer,col_indexer] = value instead\n",
      "\n",
      "See the caveats in the documentation: https://pandas.pydata.org/pandas-docs/stable/user_guide/indexing.html#returning-a-view-versus-a-copy\n",
      "  building_names_df['Building Name'] = building_names_df['Building Name'].apply(refine_building_name)\n"
     ]
    }
   ],
   "source": [
    "import pandas as pd\n",
    "\n",
    "# Sample DataFrame\n",
    "data = {\n",
    "    'Ticket Number': [1, 2, 3, 4, 5],\n",
    "    'Address': ['Addr1', 'Addr2', 'Addr3', 'Addr4', 'Addr5'],\n",
    "    'Building Name': [None, 'Building A', 'Building B', None, 'Building C'],\n",
    "    'Type': ['house', 'apartment', 'house', 'apartment', 'apartment']\n",
    "}\n",
    "\n",
    "df = pd.DataFrame(data)\n",
    "\n",
    "# 1. Filter out addresses where Building Name is None\n",
    "address_list = df[df['Building Name'].isna()]['Address'].tolist()\n",
    "\n",
    "# 2. Filter out building names which are not None and type is apartment\n",
    "building_names_df = df[(df['Building Name'].notna()) & (df['Type'] == 'apartment')]\n",
    "\n",
    "# 3. Refine the building names\n",
    "# For the sake of demonstration, let's say the refinement process is a function that sets 'Building C' to None\n",
    "def refine_building_name(name):\n",
    "    if name == 'Building C':\n",
    "        return None\n",
    "    return name\n",
    "\n",
    "building_names_df['Building Name'] = building_names_df['Building Name'].apply(refine_building_name)\n",
    "\n",
    "# Detect which building names were set to None during refinement\n",
    "removed_building_addresses = building_names_df[building_names_df['Building Name'].isna()]['Address'].tolist()\n",
    "\n",
    "# 4. Add the addresses corresponding to the removed building names to the address list\n",
    "address_list.extend(removed_building_addresses)\n",
    "\n",
    "print(address_list)\n"
   ]
  },
  {
   "cell_type": "code",
   "execution_count": 10,
   "metadata": {},
   "outputs": [
    {
     "name": "stdout",
     "output_type": "stream",
     "text": [
      "['aftab sultan residential complex', 'aftab sultan residential complex', 'aftab sultan residential complex', 'aftab sultan residential complex', 'aftab sultan residential complex', 'al habib castle apartment', 'None', 'florida homes', 'florida homes', 'florida homes', '70riviera luxury apartment', 'florida homes', 'florida homes', 'florida homes', 'florida homes', 'None', 'florida homes', 'ferrer town', 'florida homes', 'None', 'florida homes', 'florida homes', 'ferrer town', 'crystal hills apartment', 'emerald tower', 'florida homes', 'florida homes', 'ocean mall', 'florida homes', 'florida homes', 'florida homes', 'parsa heaven', 'ferrer town', 'prince complex', 'quality heights', 'royal homes', 'royal homes', 'royal homes', 'royal homes', 'royal homes', 'belle view apartment', 'belle view apartment', 'sea view apartments', 'belle view apartment', 'sea world residency', 'sky tower', 'sky tower', 'sky tower', 'sky tower', 'sky tower', 'sky tower', 'sky tower', 'sea breeze centre', 'al habib castle apartment', 'al makkah tower', '70riviera luxury apartment', 'florida homes', 'florida homes', 'florida homes', 'florida homes', 'ferrer town', 'florida homes', 'florida homes', 'florida homes', 'crystal hills apartment', 'sea breeze centre', 'florida homes', 'ocean mall', 'ocean mall', 'ocean mall', 'ocean mall', 'marine heights 2', 'prince complex', 'quality heights', 'quality heights', 'None', 'None', '70riviera luxury apartment', 'None', '70riviera luxury apartment', '70riviera luxury apartment', 'None', 'None', 'None', 'building olrendo - o', 'royal homes', 'royal homes', 'royal homes', 'royal homes', 'royal homes', 'sasi boat view', '70riviera luxury apartment', 'belle view apartment', 'belle view apartment', 'belle view apartment', 'sea breeze centre', 'sky tower', 'sky tower']\n"
     ]
    }
   ],
   "source": [
    "from fuzzywuzzy import process\n",
    "\n",
    "def extract_building_names(addresses, building_names, threshold=75):\n",
    "    extracted_names = []\n",
    "\n",
    "    for address in addresses:\n",
    "        best_match, score = process.extractOne(address, building_names)\n",
    "\n",
    "        if score >= threshold:\n",
    "            extracted_names.append(best_match)\n",
    "        else:\n",
    "            extracted_names.append('None')\n",
    "\n",
    "    return extracted_names\n",
    "\n",
    "\n",
    "# print(lst_addresses)\n",
    "# ebns = extract_building_names(lst_addresses, lst_building_names)\n",
    "\n",
    "ebns = extract_building_names(updated_lst_addresses, lst_building_names)\n",
    "print(ebns)"
   ]
  },
  {
   "cell_type": "code",
   "execution_count": 9,
   "metadata": {},
   "outputs": [],
   "source": [
    "data = {\n",
    "    'Addresses':lst_addresses,\n",
    "    'Extracted Building Name':ebns\n",
    "}\n",
    "\n",
    "df = pd.DataFrame(data)\n",
    "\n",
    "df.to_excel('data/buildings/extraction_2.xlsx', sheet_name = 'Sheet1', index=False)"
   ]
  },
  {
   "cell_type": "code",
   "execution_count": null,
   "metadata": {},
   "outputs": [],
   "source": [
    "''' results ranking: \n",
    "    extraction 2: best\n",
    "    extraction: better\n",
    "    extraction 3: worst'''\n",
    "    \n",
    "# use extraction 2 method and place all in pipeline \n",
    "# uncomment and keep address brew function\n",
    "# incorporating functionality of getting addresses with faulty building name to be refined\n",
    "# integration in normalization through ticket #"
   ]
  },
  {
   "cell_type": "code",
   "execution_count": 4,
   "metadata": {},
   "outputs": [
    {
     "name": "stdout",
     "output_type": "stream",
     "text": [
      "Building Name: Building A\n",
      "Building Name: Building B\n",
      "['Building ABC', 'Building C']\n"
     ]
    }
   ],
   "source": [
    "''' \n",
    "make a funtion which does the following:\n",
    "- checks if a file name of the format {city_name}_buildings.txt exist\n",
    "- if it does then calls the load_corpus function to load data from it into a list called buildings_corpus_lst\n",
    "- if not then directly initializes a list called buildings_corpus_lst from the 'Building Name' column of a dataframe\n",
    "- initializes a list called buildings_lst from the 'Building Name' column of a dataframe \n",
    "- make a manual checking mechaninm which asks the user to delete or edit building names in the buildings_lst\n",
    "- after the user has approved the building list the program will append building names from buildings_lst to buildings_corpus_lst only if the building name is not already in buildings_corpus_lst\n",
    "- this way there will be no repeatation in buildings_corpus_lst and they will be set as our standart. \n",
    "'''\n",
    "\n",
    "import os\n",
    "import pandas as pd\n",
    "import data_preprocessor\n",
    "\n",
    "# def load_corpus(file_name):\n",
    "#     with open(file_name, 'r') as file:\n",
    "#         return file.readlines()\n",
    "\n",
    "def manage_building_names(df, city_name):\n",
    "    file_name = f\"{city_name}_buildings.txt\"\n",
    "\n",
    "    # Check if file exists\n",
    "    if os.path.exists(file_name):\n",
    "        buildings_corpus_lst = data_preprocessor.load_corpus(file_name)\n",
    "    else:\n",
    "        buildings_corpus_lst = []\n",
    "\n",
    "    buildings_lst = df['Building Name'].tolist()\n",
    "\n",
    "    # Manual checking mechanism\n",
    "    for index, building in enumerate(buildings_lst):\n",
    "        print(f\"Building Name: {building}\")\n",
    "        action = input(\"Enter 'd' to delete, 'e' to edit, or any other key to continue: \").lower()\n",
    "\n",
    "        if action == 'd':\n",
    "            buildings_lst.pop(index)\n",
    "        elif action == 'e':\n",
    "            new_name = input(\"Enter new building name: \")\n",
    "            buildings_lst[index] = new_name\n",
    "\n",
    "    # Append unique building names from buildings_lst to buildings_corpus_lst\n",
    "    for building in buildings_lst:\n",
    "        if building not in buildings_corpus_lst:\n",
    "            buildings_corpus_lst.append(building)\n",
    "\n",
    "    # If you want to save the updated buildings_corpus_lst back to the file\n",
    "    # with open(file_name, 'w') as file:\n",
    "    #     file.writelines(buildings_corpus_lst)\n",
    "\n",
    "    return buildings_corpus_lst\n",
    "\n",
    "# Sample usage:\n",
    "df = pd.DataFrame({'Building Name': ['Building A', 'Building B', 'Building C']})\n",
    "updated_buildings_corpus_lst = manage_building_names(df, \"lahore\")\n",
    "print(updated_buildings_corpus_lst)\n"
   ]
  }
 ],
 "metadata": {
  "kernelspec": {
   "display_name": "Python 3",
   "language": "python",
   "name": "python3"
  },
  "language_info": {
   "codemirror_mode": {
    "name": "ipython",
    "version": 3
   },
   "file_extension": ".py",
   "mimetype": "text/x-python",
   "name": "python",
   "nbconvert_exporter": "python",
   "pygments_lexer": "ipython3",
   "version": "3.11.4"
  },
  "orig_nbformat": 4
 },
 "nbformat": 4,
 "nbformat_minor": 2
}
