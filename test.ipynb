{
 "cells": [
  {
   "cell_type": "markdown",
   "metadata": {},
   "source": [
    "# Building Name Extraction"
   ]
  },
  {
   "cell_type": "code",
   "execution_count": 1,
   "metadata": {},
   "outputs": [],
   "source": [
    "# imports \n",
    "import data_preprocessor\n",
    "from config import *\n",
    "import pandas as pd"
   ]
  },
  {
   "cell_type": "code",
   "execution_count": 2,
   "metadata": {},
   "outputs": [
    {
     "name": "stdout",
     "output_type": "stream",
     "text": [
      "Dataframes Loaded\n"
     ]
    }
   ],
   "source": [
    "df = data_preprocessor.load_corpus(fname, pandas = True, header = True) \n",
    "df = df.drop(columns=columns_to_drop, axis=1) \n",
    "\n",
    "df_normalized = data_preprocessor.load_corpus(fname_normalized, pandas = True, header = True)\n",
    "df_normalized = df_normalized.fillna('None') # -> if from file\n",
    "\n",
    "print('Dataframes Loaded')"
   ]
  },
  {
   "cell_type": "code",
   "execution_count": 3,
   "metadata": {},
   "outputs": [],
   "source": [
    "import building_extraction\n",
    "\n",
    "def building_name_extraction_pipeline(df, df_normalized):\n",
    "    lst_addresses, lst_building_names, lst_ticketnumbers = building_extraction.preparing_extraction(df, df_normalized)\n",
    "    extracted_building_names = building_extraction.extract_building_names(lst_addresses, lst_building_names)\n",
    "    # return lst_addresses, extracted_building_names, lst_ticketnumbers\n",
    "    corrected_df = building_extraction.correction(df_normalized, lst_ticketnumbers, extracted_building_names)\n",
    "    return corrected_df\n"
   ]
  },
  {
   "cell_type": "code",
   "execution_count": 4,
   "metadata": {},
   "outputs": [
    {
     "name": "stdout",
     "output_type": "stream",
     "text": [
      "All Done\n"
     ]
    }
   ],
   "source": [
    "# lst_addresses, ebnl, tickets = building_name_extraction_pipeline(df, df_normalized)\n",
    "\n",
    "# data = {\n",
    "#     'Ticket #':tickets,\n",
    "#     'Addresses':lst_addresses,\n",
    "#     'Extracted Building Name':ebnl\n",
    "# }\n",
    "\n",
    "# df = pd.DataFrame(data)\n",
    "\n",
    "# df.to_excel('data/buildings/extraction_16.xlsx', sheet_name = 'Sheet1', index=False)\n",
    "\n",
    "\n",
    "updated_df = building_name_extraction_pipeline(df, df_normalized)\n",
    "\n",
    "updated_df.to_excel('data/buildings/normalized_buildings_dataset_1.xlsx', sheet_name = 'Sheet1', index=False)\n",
    "\n",
    "print('All Done')"
   ]
  }
 ],
 "metadata": {
  "kernelspec": {
   "display_name": "Python 3",
   "language": "python",
   "name": "python3"
  },
  "language_info": {
   "codemirror_mode": {
    "name": "ipython",
    "version": 3
   },
   "file_extension": ".py",
   "mimetype": "text/x-python",
   "name": "python",
   "nbconvert_exporter": "python",
   "pygments_lexer": "ipython3",
   "version": "3.11.4"
  },
  "orig_nbformat": 4
 },
 "nbformat": 4,
 "nbformat_minor": 2
}
