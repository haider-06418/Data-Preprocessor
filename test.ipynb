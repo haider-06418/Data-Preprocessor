{
 "cells": [
  {
   "cell_type": "code",
   "execution_count": 14,
   "metadata": {},
   "outputs": [],
   "source": [
    "import data_preprocessor\n",
    "import pandas as pd\n",
    "\n",
    "abbreviations = data_preprocessor.load_json(\"abbreviations.json\")"
   ]
  },
  {
   "cell_type": "code",
   "execution_count": 17,
   "metadata": {},
   "outputs": [],
   "source": [
    "fname_processed = 'data/datarand_a4.csv'"
   ]
  },
  {
   "cell_type": "code",
   "execution_count": 18,
   "metadata": {},
   "outputs": [
    {
     "name": "stdout",
     "output_type": "stream",
     "text": [
      "50\n"
     ]
    },
    {
     "data": {
      "text/html": [
       "<div>\n",
       "<style scoped>\n",
       "    .dataframe tbody tr th:only-of-type {\n",
       "        vertical-align: middle;\n",
       "    }\n",
       "\n",
       "    .dataframe tbody tr th {\n",
       "        vertical-align: top;\n",
       "    }\n",
       "\n",
       "    .dataframe thead th {\n",
       "        text-align: right;\n",
       "    }\n",
       "</style>\n",
       "<table border=\"1\" class=\"dataframe\">\n",
       "  <thead>\n",
       "    <tr style=\"text-align: right;\">\n",
       "      <th></th>\n",
       "      <th>Ticket #</th>\n",
       "      <th>Type</th>\n",
       "      <th>House #</th>\n",
       "      <th>Apartment #</th>\n",
       "      <th>Building #</th>\n",
       "      <th>Building Name</th>\n",
       "      <th>Street</th>\n",
       "      <th>Road</th>\n",
       "      <th>Area &amp; Sub Area</th>\n",
       "      <th>Neighbourhood</th>\n",
       "      <th>City</th>\n",
       "    </tr>\n",
       "  </thead>\n",
       "  <tbody>\n",
       "    <tr>\n",
       "      <th>0</th>\n",
       "      <td>109352067538</td>\n",
       "      <td>apartment</td>\n",
       "      <td>NaN</td>\n",
       "      <td>apartment / suite # 701</td>\n",
       "      <td>building all blocks</td>\n",
       "      <td>luna residency</td>\n",
       "      <td>NaN</td>\n",
       "      <td>shahrah e bedi</td>\n",
       "      <td>block 1</td>\n",
       "      <td>clifton</td>\n",
       "      <td>karachi</td>\n",
       "    </tr>\n",
       "    <tr>\n",
       "      <th>1</th>\n",
       "      <td>108904140079</td>\n",
       "      <td>apartment</td>\n",
       "      <td>NaN</td>\n",
       "      <td>apartment / suite # 701 7th floor</td>\n",
       "      <td>building all blocks</td>\n",
       "      <td>paradise tower</td>\n",
       "      <td>NaN</td>\n",
       "      <td>lilly road</td>\n",
       "      <td>civil lines</td>\n",
       "      <td>clifton</td>\n",
       "      <td>karachi</td>\n",
       "    </tr>\n",
       "    <tr>\n",
       "      <th>2</th>\n",
       "      <td>105467458850</td>\n",
       "      <td>house</td>\n",
       "      <td>house # d - 176 / 1 ground floor off</td>\n",
       "      <td>NaN</td>\n",
       "      <td>NaN</td>\n",
       "      <td>NaN</td>\n",
       "      <td>NaN</td>\n",
       "      <td>allama s a usmani road</td>\n",
       "      <td>block 7</td>\n",
       "      <td>gulshan - e - iqbal</td>\n",
       "      <td>karachi</td>\n",
       "    </tr>\n",
       "    <tr>\n",
       "      <th>3</th>\n",
       "      <td>108826424556</td>\n",
       "      <td>house</td>\n",
       "      <td>house # c 239</td>\n",
       "      <td>NaN</td>\n",
       "      <td>NaN</td>\n",
       "      <td>NaN</td>\n",
       "      <td>street no 22</td>\n",
       "      <td>NaN</td>\n",
       "      <td>block - 1</td>\n",
       "      <td>gulistan - e - johar</td>\n",
       "      <td>karachi</td>\n",
       "    </tr>\n",
       "    <tr>\n",
       "      <th>4</th>\n",
       "      <td>109057689033</td>\n",
       "      <td>apartment</td>\n",
       "      <td>NaN</td>\n",
       "      <td>house # b - 27 flat # b - 1 2nd floor shaista ...</td>\n",
       "      <td>NaN</td>\n",
       "      <td>NaN</td>\n",
       "      <td>NaN</td>\n",
       "      <td>university road</td>\n",
       "      <td>block 16</td>\n",
       "      <td>gulshan - e - iqbal</td>\n",
       "      <td>karachi</td>\n",
       "    </tr>\n",
       "  </tbody>\n",
       "</table>\n",
       "</div>"
      ],
      "text/plain": [
       "       Ticket #       Type                               House #  \\\n",
       "0  109352067538  apartment                                   NaN   \n",
       "1  108904140079  apartment                                   NaN   \n",
       "2  105467458850      house  house # d - 176 / 1 ground floor off   \n",
       "3  108826424556      house                         house # c 239   \n",
       "4  109057689033  apartment                                   NaN   \n",
       "\n",
       "                                         Apartment #           Building #  \\\n",
       "0                            apartment / suite # 701  building all blocks   \n",
       "1                  apartment / suite # 701 7th floor  building all blocks   \n",
       "2                                                NaN                  NaN   \n",
       "3                                                NaN                  NaN   \n",
       "4  house # b - 27 flat # b - 1 2nd floor shaista ...                  NaN   \n",
       "\n",
       "    Building Name        Street                    Road Area & Sub Area  \\\n",
       "0  luna residency           NaN          shahrah e bedi         block 1   \n",
       "1  paradise tower           NaN              lilly road     civil lines   \n",
       "2             NaN           NaN  allama s a usmani road         block 7   \n",
       "3             NaN  street no 22                     NaN       block - 1   \n",
       "4             NaN           NaN         university road        block 16   \n",
       "\n",
       "          Neighbourhood     City  \n",
       "0               clifton  karachi  \n",
       "1               clifton  karachi  \n",
       "2   gulshan - e - iqbal  karachi  \n",
       "3  gulistan - e - johar  karachi  \n",
       "4   gulshan - e - iqbal  karachi  "
      ]
     },
     "execution_count": 18,
     "metadata": {},
     "output_type": "execute_result"
    }
   ],
   "source": [
    "columns = ['Ticket #', 'Type', 'House #', 'Apartment #', 'Building #', 'Building Name', 'Street', 'Road', 'Area & Sub Area', 'Neighbourhood', 'City'] \n",
    "df = data_preprocessor.load_corpus(fname_processed , pandas = True, header = True)\n",
    "\n",
    "print(len(df))\n",
    "\n",
    "df.head()"
   ]
  },
  {
   "cell_type": "code",
   "execution_count": 16,
   "metadata": {},
   "outputs": [
    {
     "name": "stdout",
     "output_type": "stream",
     "text": [
      "[(3, 'gulshan e iqbal')]\n",
      "[(2, 'defence')]\n",
      "[(1, 'clifton')]\n",
      "[(1, 'meher plaza')]\n",
      "[(1, 'al murtaza heights')]\n",
      "1 clifton\n"
     ]
    }
   ],
   "source": [
    "from nltk.metrics.distance import edit_distance\n",
    "\n",
    "correct_words = ['gulshan e hadeed', 'gulshan e iqbal', 'defence', 'clifton', 'meher plaza', 'al murtaza heights', 'al murtaza height']\n",
    "\n",
    "incorrect_words= ['gulshen iqbal', 'defnse', 'klifton', 'mehar plaza', 'al murteza heights']\n",
    "\n",
    "for word in incorrect_words:\n",
    "\t\ttemp = [(edit_distance(word, w),w) for w in correct_words]\n",
    "\t\t# print(sorted(temp, key = lambda val:val[0])[0][1])\n",
    "\n",
    "\t\tif len(temp) > 1: \n",
    "\t\t\ttemp = [min(temp, key=lambda t: t[0])]\n",
    "\n",
    "\t\tprint(temp)\n",
    "\t\t# print(temp[0][1])\n",
    "\n",
    "print(edit_distance(incorrect_words[2], correct_words[3]), correct_words[3])"
   ]
  },
  {
   "cell_type": "code",
   "execution_count": null,
   "metadata": {},
   "outputs": [],
   "source": [
    "def building_name_spelling_correction():\n",
    "    pass"
   ]
  }
 ],
 "metadata": {
  "kernelspec": {
   "display_name": "Python 3",
   "language": "python",
   "name": "python3"
  },
  "language_info": {
   "codemirror_mode": {
    "name": "ipython",
    "version": 3
   },
   "file_extension": ".py",
   "mimetype": "text/x-python",
   "name": "python",
   "nbconvert_exporter": "python",
   "pygments_lexer": "ipython3",
   "version": "3.10.0"
  },
  "orig_nbformat": 4
 },
 "nbformat": 4,
 "nbformat_minor": 2
}
