{
 "cells": [
  {
   "cell_type": "markdown",
   "metadata": {},
   "source": [
    "# Project: Address Normalization and Building Name Extraction\n",
    "\n",
    "main focus of address parsing - building names and uniformaty\n",
    "\n",
    "bonus: analysis (field x vs field y plots)"
   ]
  },
  {
   "cell_type": "markdown",
   "metadata": {},
   "source": [
    "### length of df = 213874 \n",
    "\n",
    "### length of df (unique) = 71318"
   ]
  },
  {
   "cell_type": "markdown",
   "metadata": {},
   "source": [
    "2 parts: \n",
    "\n",
    "- data parsing and storing in our DB (standart uniform way)\n",
    "- checking in DB, if same address fields are there so directly storing fields in db from prior knowledge\n",
    "\n",
    "Work flows: \n",
    "- storing main address db in file, read and load from file, run parse (processing), update & add into main address db, store back in file\n",
    "- 2 major flow components for now: pre processing and how this (processing) where addressed is successfully parsed and placed into a df and saved\n",
    "\n",
    "data pipeline shape to the project (proper flow plus maximum automation (function automatic calling inside another function))\n",
    "\n",
    "\n"
   ]
  },
  {
   "attachments": {},
   "cell_type": "markdown",
   "metadata": {},
   "source": [
    "comma placement: \n",
    "\n",
    "check if commnas < 3 and street, house, appt, city, present in address string --> defense addreses (data2.csv)\n",
    "\n",
    "for commna placement: identifier checks --> check if 2 keywords present at once, if 2 keywords present at once, then break according to keyword i.e. place comma or break accordingly\n",
    "\n",
    "localized approach for comma placement;\n",
    "- highlight areas with most issue for eg defence \n",
    "- check by condition if area == defence then check every field one by one \n",
    "- if more than 1 keyword; sperarte need based for eg for defence street its xxxx street/lane eg 23rd street/lane so place comma after that \n",
    "\n",
    "- ^ name this layer 2 check, place comma then break from there and place in correct field\n",
    "\n",
    "\n",
    "\n",
    "Using Machine learning for remaining normalization part where comma placement issue:\n",
    "\n",
    "seperate normalized or processed data into 2 parts: \n",
    "\n",
    "- correctly normalized addresses;\n",
    "    -   checks if all fields are full (option in street/road but anyone)\n",
    "    -   manual additions\n",
    "\n",
    "- incorrect normalized addresses due to comma placements;\n",
    "    -   checks if appartment true but no appartment #, building name\n",
    "    -   checks if house true but no house #\n",
    "    -   manual additions\n",
    "\n",
    "- train & run model to make test data correct\n",
    "\n",
    "\n",
    "\n",
    "Tasks Remaining:\n",
    "\n",
    "- neighbour hood wise looking for problematic areas and identifying patterns\n",
    "- pattern recognition:\n",
    "    - house # seperation in road with variations \n",
    "    - house # seperation in street with floor and other variations\n",
    "    - appartment # and building name\n",
    "- building name spelling correction mechanism (if any)\n",
    "- analysis visualizations\n",
    "\n",
    "- manual check ups and additions.\n",
    "- make report of full project --> Address Normalization & Builiding Name extraction using Python \n",
    "- update GitHub: readMe.md + files\n",
    "\n",
    "Uniform address classification and normalizatinon for all pakistani addresses"
   ]
  },
  {
   "attachments": {},
   "cell_type": "markdown",
   "metadata": {},
   "source": [
    "Hierarchy: \n",
    "\n",
    "(if present because not all feilds in all addresses)\n",
    "\n",
    "- Type --> INFERRED\n",
    "\n",
    "- House # --> KEYWORD CHECK \n",
    "\n",
    "- Appartment # --> KEYWORD CHECK\n",
    "\n",
    "- Building # --> check with index +-1 if type int/number present\n",
    "\n",
    "- Building Name --> index +- >(len(tokenization list)/2)\n",
    "\n",
    "- Street Number/Name --> KEYWORD CHECK\n",
    "\n",
    "- Road Number/Name --> KEYWORD CHECK\n",
    "\n",
    "- Area (eg: bath island, civil lines, khayaban) --> IF AVAILABLE IN END & Sub Area (phase, block, etc.) --> KEYWORD CHECK\n",
    "\n",
    "- Neighbourhood  --> STANDART, [-2] in address string\n",
    "\n",
    "- City --> STANDART, [-1] in address string\n"
   ]
  },
  {
   "attachments": {},
   "cell_type": "markdown",
   "metadata": {},
   "source": [
    "Each hierarchy step check:\n",
    "\n",
    "- ~~pre_processing function --> grammer, punctuation, spacing, capitalization~~\n",
    "\n",
    "- ~~tokenization~~\n",
    "\n",
    "- ~~one by one tokenization feilds checks:~~\n",
    "\n",
    "    - spelling check (where applicable like neighbour hoods)\n",
    "\n",
    "    - checking if already in db (or give if there exists another one with least Levenshtein distance, if Levenshtein distance < 2 then change to above one)\n",
    "\n",
    "    - ~~keyword check where to place and place~~\n",
    "\n",
    "- ~~place in DB~~\n",
    "\n",
    "- ~~when tokenization list empty, fill null or zero in remaining felids~~\n"
   ]
  },
  {
   "cell_type": "markdown",
   "metadata": {},
   "source": [
    "algo for building name correction:\n",
    "\n",
    "- load normalized df\n",
    "\n",
    "- convert building names column to list\n",
    "\n",
    "- create empty list for corrected building names\n",
    "\n",
    "- pop 1 from building names column list & append to corrected building names list ( if path # 1) \n",
    "\n",
    "- iterate over building names column list:\n",
    "\n",
    "    -   check if building name is not string: \n",
    "\n",
    "        -   append 'None' to corrected building names list \n",
    "    \n",
    "    -   else:   \n",
    "\n",
    "        -   corrected word corpus = corrected building names list\n",
    "\n",
    "        -   ~~corrected word corpus = zohaib bhai corrected building names corpus~~ (alternate option but not functional as zohaib bhai corrected building names corpus only has 16% (35k/213K) addresses which are top locations)\n",
    "            \n",
    "        -   incorrect word = one word at a time from building names column list\n",
    "\n",
    "        -   check number of substitutions required using using levenshtein distance mechanism already formulated\n",
    "\n",
    "        -   if number retured is less than 3; change spelling \n",
    "\n",
    "        -   else; keep same spelling\n",
    "\n",
    "- when iteration finished, replace corrected building names list with building names colum in normalized df\n",
    "\n",
    "- save the updated building name df as: buidling corrected or processed khi.. \n",
    "\n",
    "- from the updated building name df, extract ticket and building name into a new df and save that df (for analysis)\n",
    "\n",
    "- from anyone of the above save unique building names into a txt file or csv file\n"
   ]
  },
  {
   "cell_type": "markdown",
   "metadata": {},
   "source": [
    "analyze stats algorithm: \n",
    "- load normalized dataset \n",
    "- check if type house but house number missing \n",
    "- check if type appartment but appartment number missing\n",
    "- check if type appartment but building name missing \n",
    "- store all their counts (seperatly and together)\n",
    "- analyze their count w.r.t total dataset size to get percentage accuracy\n",
    "- print in good formart run analysis stats\n",
    "- analysis function in data processor then import at the end"
   ]
  },
  {
   "cell_type": "markdown",
   "metadata": {},
   "source": [
    "Report: \n",
    "\n",
    "Sources: notes.ipnyb, normalization.py, readME.md, chatgpt\n",
    "\n",
    "- We have designed a unique and talior normalization schema universal for all Pakistani Addresses.\n",
    "- file directory \n",
    "- notes.ipynb notes\n",
    "- complete walkthrough and explainantion (layman style) of the program\n",
    "- if comma placement issue prevails then explain it. "
   ]
  }
 ],
 "metadata": {
  "kernelspec": {
   "display_name": "Python 3",
   "language": "python",
   "name": "python3"
  },
  "language_info": {
   "codemirror_mode": {
    "name": "ipython",
    "version": 3
   },
   "file_extension": ".py",
   "mimetype": "text/x-python",
   "name": "python",
   "nbconvert_exporter": "python",
   "pygments_lexer": "ipython3",
   "version": "3.10.0"
  },
  "orig_nbformat": 4
 },
 "nbformat": 4,
 "nbformat_minor": 2
}
