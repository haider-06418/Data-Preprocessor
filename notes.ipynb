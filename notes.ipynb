{
 "cells": [
  {
   "cell_type": "markdown",
   "metadata": {},
   "source": [
    "# Project: Address Normalization and Building Name Extraction\n",
    "\n",
    "main focus of address parsing - building names and uniformaty\n",
    "\n",
    "bonus: analysis (field x vs field y plots)"
   ]
  },
  {
   "cell_type": "markdown",
   "metadata": {},
   "source": [
    "Work flows: \n",
    "- address normalization\n",
    "- building name extraction\n",
    "\n",
    "\n",
    "length of df = 213874 \n",
    "\n",
    "length of df (unique) = 71318"
   ]
  },
  {
   "attachments": {},
   "cell_type": "markdown",
   "metadata": {},
   "source": [
    "<u>Tasks Remaining</u>:\n",
    "\n",
    "none\n",
    "\n",
    "closing checks:\n",
    "- final building mapping \n",
    "- capitalization"
   ]
  },
  {
   "attachments": {},
   "cell_type": "markdown",
   "metadata": {},
   "source": [
    "<u>Hierarchy</u>: \n",
    "\n",
    "(if present because not all feilds in all addresses)\n",
    "\n",
    "- Type --> INFERRED\n",
    "\n",
    "- House # --> KEYWORD CHECK \n",
    "\n",
    "- Appartment # --> KEYWORD CHECK\n",
    "\n",
    "- Building # --> check with index +-1 if type int/number present\n",
    "\n",
    "- Building Name --> index +- >(len(tokenization list)/2)\n",
    "\n",
    "- Street Number/Name --> KEYWORD CHECK\n",
    "\n",
    "- Road Number/Name --> KEYWORD CHECK\n",
    "\n",
    "- Area (eg: bath island, civil lines, khayaban) --> IF AVAILABLE IN END & Sub Area (phase, block, etc.) --> KEYWORD CHECK\n",
    "\n",
    "- Neighbourhood  --> STANDART, [-2] in address string\n",
    "\n",
    "- City --> STANDART, [-1] in address string\n"
   ]
  },
  {
   "attachments": {},
   "cell_type": "markdown",
   "metadata": {},
   "source": [
    "<u>Hierarchy step check</u>:\n",
    "\n",
    "checking hierarchy in normalization.py\n",
    "\n",
    "- ~~pre_processing function --> grammer, punctuation, spacing, capitalization~~\n",
    "\n",
    "- ~~tokenization~~\n",
    "\n",
    "- ~~one by one tokenization feilds checks:~~\n",
    "\n",
    "    - ~~spelling check (where applicable like neighbour hoods)~~\n",
    "\n",
    "    - ~~checking if already in db (or give if there exists another one with least Levenshtein distance, if Levenshtein distance < 2 then change to above one)~~\n",
    "\n",
    "    - ~~keyword check where to place and place~~\n",
    "\n",
    "- ~~place in DB~~\n",
    "\n",
    "- ~~when tokenization list empty, fill null or zero in remaining felids~~\n"
   ]
  },
  {
   "cell_type": "markdown",
   "metadata": {},
   "source": [
    "<u>Algo for building name correction:</u>\n",
    "\n",
    "- load normalized df\n",
    "\n",
    "- convert building names column to list\n",
    "\n",
    "- create empty list for corrected building names\n",
    "\n",
    "- pop 1 from building names column list & append to corrected building names list ( if path # 1) \n",
    "\n",
    "- iterate over building names column list:\n",
    "\n",
    "    -   check if building name is not string: \n",
    "\n",
    "        -   append 'None' to corrected building names list \n",
    "    \n",
    "    -   else:   \n",
    "\n",
    "        -   corrected word corpus = corrected building names list\n",
    "\n",
    "        -   ~~corrected word corpus = zohaib bhai corrected building names corpus~~ (alternate option but not functional as zohaib bhai corrected building names corpus only has 16% (35k/213K) addresses which are top locations)\n",
    "            \n",
    "        -   incorrect word = one word at a time from building names column list\n",
    "\n",
    "        -   check number of substitutions required using using levenshtein distance mechanism already formulated\n",
    "\n",
    "        -   if number retured is less than 3; change spelling \n",
    "\n",
    "        -   else; keep same spelling\n",
    "\n",
    "- when iteration finished, replace corrected building names list with building names colum in normalized df\n",
    "\n",
    "- save the updated building name df as: buidling corrected or processed khi.. \n",
    "\n",
    "- from the updated building name df, extract ticket and building name into a new df and save that df (for analysis)\n",
    "\n",
    "- from anyone of the above save unique building names into a txt file or csv file\n"
   ]
  },
  {
   "cell_type": "markdown",
   "metadata": {},
   "source": [
    "<u>Analyze stats algorithm</u>: \n",
    "- load normalized dataset \n",
    "- check if type house but house number missing \n",
    "- check if type appartment but appartment number missing\n",
    "- check if type appartment but building name missing \n",
    "- store all their counts (seperatly and together)\n",
    "- analyze their count w.r.t total dataset size to get percentage accuracy\n",
    "- print in good formart run analysis stats\n",
    "- analysis function in data processor then import at the end"
   ]
  },
  {
   "cell_type": "markdown",
   "metadata": {},
   "source": [
    "<u>Report</u>: \n",
    "\n",
    "Sources: notes.ipnyb, normalization.py, readME.md, chatgpt\n"
   ]
  }
 ],
 "metadata": {
  "kernelspec": {
   "display_name": "Python 3",
   "language": "python",
   "name": "python3"
  },
  "language_info": {
   "codemirror_mode": {
    "name": "ipython",
    "version": 3
   },
   "file_extension": ".py",
   "mimetype": "text/x-python",
   "name": "python",
   "nbconvert_exporter": "python",
   "pygments_lexer": "ipython3",
   "version": "3.10.0"
  },
  "orig_nbformat": 4
 },
 "nbformat": 4,
 "nbformat_minor": 2
}
