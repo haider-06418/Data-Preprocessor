{
 "cells": [
  {
   "cell_type": "code",
   "execution_count": 5,
   "metadata": {},
   "outputs": [],
   "source": [
    "import spacy\n",
    "import string\n",
    "\n",
    "NER = spacy.load(\"en_core_web_sm\")\n"
   ]
  },
  {
   "cell_type": "code",
   "execution_count": 30,
   "metadata": {},
   "outputs": [
    {
     "name": "stdout",
     "output_type": "stream",
     "text": [
      "House ORG\n",
      "38 CARDINAL\n",
      "Gulshan GPE\n",
      "Karachi PERSON\n"
     ]
    }
   ],
   "source": [
    "sample1 = 'House  # C 38,  Block  8 , Gulshan-e-Iqbal, Karachi'\n",
    "\n",
    "def ner(textstring):\n",
    "    text1= NER(textstring)\n",
    "\n",
    "    for word in text1.ents:\n",
    "        print(word.text,word.label_)\n",
    "\n",
    "ner(sample1)"
   ]
  },
  {
   "cell_type": "code",
   "execution_count": 19,
   "metadata": {},
   "outputs": [
    {
     "name": "stdout",
     "output_type": "stream",
     "text": [
      "Haider Abbas PERSON\n",
      "Al Murtaza School ORG\n",
      "IBA ORG\n",
      "House ORG\n",
      "C-38 PRODUCT\n",
      "Gulshan GPE\n",
      "Karachi PERSON\n"
     ]
    }
   ],
   "source": [
    "sample2 ='Hi, my name is Haider Abbas. I study in class III-B in Al Murtaza School. My university is IBA. I want to be a billionare when I grow up. I live in House  # C-38,  Block  8 , Gulshan-e-Iqbal, Karachi'\n",
    "\n",
    "ner(sample2)"
   ]
  },
  {
   "cell_type": "code",
   "execution_count": 18,
   "metadata": {},
   "outputs": [
    {
     "name": "stdout",
     "output_type": "stream",
     "text": [
      "Apple ORG\n",
      "American NORP\n",
      "Cupertino GPE\n",
      "California GPE\n",
      "Steve Jobs PERSON\n",
      "Steve Wozniak PERSON\n",
      "April 1976 DATE\n"
     ]
    }
   ],
   "source": [
    "sample3 = 'Apple is an American tech company whose headquarters are located in Cupertino, California. It was founded by Steve Jobs and Steve Wozniak in April 1976.'\n",
    "\n",
    "ner(sample3)"
   ]
  },
  {
   "cell_type": "code",
   "execution_count": 1,
   "metadata": {},
   "outputs": [],
   "source": [
    "# import nltk\n",
    "from nltk.metrics.distance import edit_distance"
   ]
  },
  {
   "cell_type": "code",
   "execution_count": 29,
   "metadata": {},
   "outputs": [
    {
     "name": "stdout",
     "output_type": "stream",
     "text": [
      "[(3, 'gulshan e iqbal')]\n",
      "[(2, 'defence')]\n",
      "[(1, 'clifton')]\n",
      "[(1, 'meher plaza')]\n",
      "[(1, 'al murtaza heights')]\n"
     ]
    }
   ],
   "source": [
    "correct_words = ['gulshan e hadeed', 'gulshan e iqbal', 'defence', 'clifton', 'meher plaza', 'al murtaza heights', 'al murtaza height']\n",
    "\n",
    "incorrect_words= ['gulshen iqbal', 'defnse', 'klifton', 'mehar plaza', 'al murteza heights']\n",
    "\n",
    "for word in incorrect_words:\n",
    "\t\ttemp = [(edit_distance(word, w),w) for w in correct_words]\n",
    "\t\t# print(sorted(temp, key = lambda val:val[0])[0][1])\n",
    "\n",
    "\t\tif len(temp) > 1: \n",
    "\t\t\ttemp = [min(temp, key=lambda t: t[0])]\n",
    "\n",
    "\t\tprint(temp)\n",
    "\t\t# print(temp[0][1])\n",
    "\n",
    "# print(edit_distance(incorrect_words[2], correct_words[3]), correct_words[3])"
   ]
  }
 ],
 "metadata": {
  "kernelspec": {
   "display_name": "Python 3",
   "language": "python",
   "name": "python3"
  },
  "language_info": {
   "codemirror_mode": {
    "name": "ipython",
    "version": 3
   },
   "file_extension": ".py",
   "mimetype": "text/x-python",
   "name": "python",
   "nbconvert_exporter": "python",
   "pygments_lexer": "ipython3",
   "version": "3.10.0"
  },
  "orig_nbformat": 4
 },
 "nbformat": 4,
 "nbformat_minor": 2
}
