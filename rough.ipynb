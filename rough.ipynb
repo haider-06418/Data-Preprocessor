{
 "cells": [
  {
   "cell_type": "code",
   "execution_count": 1,
   "metadata": {},
   "outputs": [],
   "source": [
    "from nltk.metrics.distance import edit_distance"
   ]
  },
  {
   "cell_type": "code",
   "execution_count": 2,
   "metadata": {},
   "outputs": [
    {
     "name": "stdout",
     "output_type": "stream",
     "text": [
      "[(3, 'gulshan e iqbal')]\n",
      "[(2, 'defence')]\n",
      "[(1, 'clifton')]\n",
      "[(1, 'meher plaza')]\n",
      "[(1, 'al murtaza heights')]\n"
     ]
    }
   ],
   "source": [
    "correct_words = ['gulshan e hadeed', 'gulshan e iqbal', 'defence', 'clifton', 'meher plaza', 'al murtaza heights', 'al murtaza height']\n",
    "\n",
    "incorrect_words= ['gulshen iqbal', 'defnse', 'klifton', 'mehar plaza', 'al murteza heights']\n",
    "\n",
    "for word in incorrect_words:\n",
    "\t\ttemp = [(edit_distance(word, w),w) for w in correct_words]\n",
    "\t\t# print(sorted(temp, key = lambda val:val[0])[0][1])\n",
    "\n",
    "\t\tif len(temp) > 1: \n",
    "\t\t\ttemp = [min(temp, key=lambda t: t[0])]\n",
    "\n",
    "\t\tprint(temp)\n",
    "\t\t# print(temp[0][1])\n",
    "\n",
    "# print(edit_distance(incorrect_words[2], correct_words[3]), correct_words[3])"
   ]
  },
  {
   "cell_type": "code",
   "execution_count": 3,
   "metadata": {},
   "outputs": [
    {
     "name": "stdout",
     "output_type": "stream",
     "text": [
      "JSON file 'abbreviations.json' has been modified.\n"
     ]
    }
   ],
   "source": [
    "import json\n",
    "import string\n",
    "\n",
    "def remove_punctuation(text):\n",
    "    translator = str.maketrans(\"\", \"\", string.punctuation)\n",
    "    return text.translate(translator)\n",
    "\n",
    "def lowercase_text(text):\n",
    "    return text.lower()\n",
    "\n",
    "def process_json(json_data):\n",
    "    processed_data = {}\n",
    "    for key, value in json_data.items():\n",
    "        processed_key = remove_punctuation(lowercase_text(key))\n",
    "        processed_value = remove_punctuation(lowercase_text(value))\n",
    "        processed_data[processed_key] = processed_value\n",
    "    return processed_data\n",
    "\n",
    "# Read the JSON file\n",
    "filename = \"abbreviations.json\"\n",
    "with open(filename) as file:\n",
    "    data = json.load(file)\n",
    "\n",
    "# Process the JSON data\n",
    "processed_data = process_json(data)\n",
    "\n",
    "# Write the processed data back to the JSON file\n",
    "with open(filename, \"w\") as file:\n",
    "    json.dump(processed_data, file, indent=4)\n",
    "\n",
    "print(f\"JSON file '{filename}' has been modified.\")\n",
    "\n"
   ]
  },
  {
   "cell_type": "code",
   "execution_count": null,
   "metadata": {},
   "outputs": [],
   "source": [
    "''' Generating a random list of address from the dataset '''\n",
    "import random\n",
    "\n",
    "def generate_random_numbers():\n",
    "    random_numbers = []\n",
    "    for _ in range(10):\n",
    "        random_number = random.randint(0, 213874)\n",
    "        random_numbers.append(random_number)\n",
    "    return random_numbers\n",
    "\n",
    "random_numbers = generate_random_numbers()\n",
    "\n",
    "random_addresses = []\n",
    "\n",
    "for i in random_numbers:\n",
    "    random_addresses.append(df['Address'][i])\n",
    "\n",
    "print(random_addresses)\n",
    "\n",
    "\n",
    "''' Show address preprocessing results '''\n",
    "\n",
    "def show_pre_processing(list_of_addresses):\n",
    "    for ady in list_of_addresses:\n",
    "        address_info = pre_processing(ady)\n",
    "        print('Address: ', address_info[0])\n",
    "        print('Type: ', address_info[1])\n",
    "        print(' ')\n",
    "\n",
    "show_pre_processing(random_addresses)\n"
   ]
  },
  {
   "cell_type": "code",
   "execution_count": null,
   "metadata": {},
   "outputs": [],
   "source": [
    "sample1 = 'House # C38, Block 8, Gulshan-e-Iqbal, Karachi'\n",
    "sample2 = 'House No. 123, Street 5, Phase 7, DHA, Karachi'\n",
    "sample3 = \"House No. 123, St 5, Phase 7, DHA, Karachi\"\n",
    "sample4 = 'Apartment/Suite# 404 4th Floor, Building All Blocks, Fatima Tower, Jamaludin Afghani Rd, Block 3, PECHS, Karachi'\n",
    "\n",
    "samples = [' House # F-37 Off, Khayaban-e-Iqbal, Block 8, Clifton, Karachi ', \n",
    "           ' House # 82-B ,1st Floor, 21st Street, Khayaban e badar, Phase 6, Defence, Karachi ', \n",
    "           ' Apartment/Suite# 702 7th Floor, Building All Block, Jheel ParkView, Siraj Road, Block 2, PECHS, Karachi ', \n",
    "           ' House # R-18, Street No 37, Block-1, Gulistan-e-Johar, Karachi ', \n",
    "           ' Apartment/Suite# 409 4th fl, Building All Blocks, Sahil Promenade, Khayaban e Sadi, Block 3, Clifton, Karachi ', \n",
    "           ' House # 6C 1st Floor Ismail Center, Alamgir Road, Bahadurabad, PECHS, Karachi ', \n",
    "           ' Apartment/Suite# 204 2nd Floor, Building C, Farhan Classic, Pro Abdul Ghafoor Rd, Block 12, Gulistan-e-Johar, Karachi ', \n",
    "           ' House # 16B/1 Main, National Highway, Phase 2, Defence, Karachi ', \n",
    "           ' House # 187/2/B Off, Shahrah e Qaideen, Block 2, PECHS, Karachi ', \n",
    "           ' House # R-11/1, Khayaban e Sadi, Phase 7, Defence, Karachi ']\n",
    "\n",
    "sample5 = ' House # 82-B ,1st Floor, 21st Street, Khayaban e badar, Phase 6, Defence, Karachi '\n",
    "sample6 = ' Apartment/Suite# 409 4th fl, Building All Blocks, Sahil Promenade, Khayaban e Sadi, Block 3, Clifton, Karachi '\n",
    "\n",
    "# remaining_address = [' Building All Blocks', ' Sahil Promenade', ' Khayaban e Sadi', ' Block 3']\n",
    "# remaining_address2 = [' Building All Blocks', ' Sahil Promenade', ' Khayaban e Sadi']\n",
    "# remaining_address3 = [' Khayaban e Sadi', ' Block 3']\n",
    "# remaining_address4 = [' Building All Blocks', ' Sahil Promenade']\n",
    "\n",
    "# sample7 = 'Apartment/Suite# Flat 204, Building All Blocks, Pardesi Green Land Apartments, 8th Street, near baitul mukarrram majid, behind hakim saeed park, Bath Island, Clifton, Karachi'\n",
    "# remaining_address = [' Building All Blocks', ' Pardesi Green Land Apartments', ' near baitul mukarrram majid', ' behind hakim saeed park', ' Bath Island']\n",
    "\n",
    "# sample8 = ' House # 82-B ,1st Floor, near baitul mukarrram majid, behind hakim saeed park, 21st Street, Khayaban e badar, Phase 6, Defence, Karachi '\n",
    "# remaining_address = [ ' near baitul mukarrram majid', ' behind hakim saeed park', ' Khayaban e badar', ' Phase 6']\n",
    "# remaining_address = [ ' near baitul mukarrram majid', ' behind hakim saeed park', ' Khayaban e badar']"
   ]
  },
  {
   "cell_type": "code",
   "execution_count": 1,
   "metadata": {},
   "outputs": [],
   "source": [
    "area_keywords = ['block', 'phase', 'scheme', 'sector']\n",
    "\n",
    "street_keywords = ['street', 'phase', 'road', 'highway', 'lane', 'avenue', 'boulevard', 'sharah']\n",
    "\n",
    "house_keywords = ['house', 'house no', 'house number', 'house #', 'plot']\n",
    "\n",
    "apartment_keywords = ['flat', 'flat no', 'flat number', 'flat #', 'apartment', 'building', 'suite']"
   ]
  },
  {
   "cell_type": "code",
   "execution_count": null,
   "metadata": {},
   "outputs": [],
   "source": [
    "columns = ['Ticket #', 'Type', 'House #', 'Appartment #', 'Building #', 'Building Name', 'Street Number/Name', 'Area & Sub Area', 'Neighbourhood', 'City']"
   ]
  },
  {
   "cell_type": "markdown",
   "metadata": {},
   "source": [
    "# length of df = 213874"
   ]
  },
  {
   "cell_type": "markdown",
   "metadata": {},
   "source": [
    "main focus of address parsing - building names and uniformaty\n",
    "\n",
    "2 parts: \n",
    "\n",
    "- data parsing and storing in our DB (standart uniform way)\n",
    "- checking in DB, if same address fields are there so directly storing fields in db from prior knowledge\n",
    "\n",
    "Work flows: \n",
    "- storing main address db in file, read and load from file, run parse (processing), update & add into main address db, store back in file\n",
    "- re structuring and removing unnecessary code\n",
    "- 2 major flow components for now: pre processing and how this (processing) where addressed is successfully parsed and placed into a df and saved\n",
    "\n",
    "data pipeline shape to the project (proper flow plus maximum automation (function automatic calling inside another function))\n",
    "\n",
    "- get number of unplaced entries in every address:\n",
    "\n",
    "    - len of tokenized list from parse before calling probabilistic_identifiers function\n",
    "\n",
    "    - total len of that tokenized address\n",
    "\n",
    "    - index scores with token of address \n",
    "    \n",
    "    - total average of 213874\n",
    "    \n",
    "    - data representation using mathplotlib of any tool\n",
    "\n",
    "  \n",
    "- test data size should be 2% of original data size: \n",
    "    2% of 213874 = 4,277.48 = 4,275\n",
    "    So a test df of size 4,275 randomly generated \n"
   ]
  },
  {
   "attachments": {},
   "cell_type": "markdown",
   "metadata": {},
   "source": [
    "Hierarchy: \n",
    "\n",
    "(if present because not all feilds in all addresses)\n",
    "\n",
    "- Type --> INFERRED\n",
    "\n",
    "- House # --> KEYWORD CHECK \n",
    "\n",
    "- Appartment # --> KEYWORD CHECK\n",
    "\n",
    "- Building # --> check with index +-1 if type int/number present\n",
    "\n",
    "- Building Name --> index +- >(len(tokenization list)/2)\n",
    "\n",
    "- Street Number/Name --> KEYWORD CHECK\n",
    "\n",
    "- Area (eg: bath island, civil lines, khayaban) --> IF AVAILABLE IN END & Sub Area (phase, block, etc.) --> KEYWORD CHECK\n",
    "\n",
    "- Neighbourhood  --> STANDART, [-2] in address string\n",
    "\n",
    "- City --> STANDART, [-1] in address string"
   ]
  },
  {
   "attachments": {},
   "cell_type": "markdown",
   "metadata": {},
   "source": [
    "Each hierarchy step check:\n",
    "\n",
    "- ~~pre_processing function --> grammer, punctuation, spacing, capitalization~~\n",
    "\n",
    "- ~~tokenization~~\n",
    "\n",
    "- ~~one by one tokenization feilds checks:~~\n",
    "\n",
    "    - spelling check (where applicable like neighbour hoods)\n",
    "\n",
    "    - checking if already in db (or give if there exists another one with least Levenshtein distance, if Levenshtein distance < 2 then change to above one)\n",
    "\n",
    "    - ~~keyword check where to place and place~~\n",
    "\n",
    "- ~~place in DB~~\n",
    "\n",
    "- ~~when tokenization list empty, fill null or zero in remaining felids~~"
   ]
  },
  {
   "attachments": {},
   "cell_type": "markdown",
   "metadata": {},
   "source": [
    "- Seperate into 2 columns: Khayaban and Road, Street and Lane (differentiate the checks)\n",
    "\n",
    "- Khayaban and Road (Avenue, blouvard, 'highway', 'sharah') --> add Commercial\n",
    "\n",
    "- Street and Lane\n",
    "\n",
    "street keywords = ['street', 'road', 'highway', 'lane', 'avenue', 'boulevard', 'sharah']\n",
    "\n",
    "-  Street is used in:\n",
    "\n",
    "    - DHA \n",
    "\n",
    "    - Nazimbad\n",
    "\n",
    "\n",
    "comma placement: \n",
    "\n",
    "check if commnas < 3 and street, house, appt, city, present in address string --> defense addreses (data2.csv)\n",
    "\n",
    "for commna placement: identifier checks --> check if 2 keywords present at once, if 2 keywords present at once, then break according to keyword i.e. place comma or break accordingly\n",
    "\n",
    "\n",
    "Tasks Remaining: \n",
    "- street and lane different \n",
    "- building name spelling correction mechanism \n",
    "- comma placement (alternative mechanism keyword search)\n",
    "- final code cleanse and give shape (fname, columns assignment at start) with comments \n",
    "- make report of full project --> Address Normalization & Builiding Name extraction using Python \n",
    "\n",
    "Uniform address classification and normalizatinon for all pakistani addresses"
   ]
  }
 ],
 "metadata": {
  "kernelspec": {
   "display_name": "Python 3",
   "language": "python",
   "name": "python3"
  },
  "language_info": {
   "codemirror_mode": {
    "name": "ipython",
    "version": 3
   },
   "file_extension": ".py",
   "mimetype": "text/x-python",
   "name": "python",
   "nbconvert_exporter": "python",
   "pygments_lexer": "ipython3",
   "version": "3.10.0"
  },
  "orig_nbformat": 4
 },
 "nbformat": 4,
 "nbformat_minor": 2
}
